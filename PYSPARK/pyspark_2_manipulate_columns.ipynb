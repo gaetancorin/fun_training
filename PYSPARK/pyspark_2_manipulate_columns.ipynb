{
 "cells": [
  {
   "cell_type": "code",
   "execution_count": 1,
   "id": "d8052d73-974a-4165-a6dd-b86d56a95e37",
   "metadata": {},
   "outputs": [],
   "source": [
    "from pyspark.sql import SparkSession\n",
    "spark = SparkSession.builder.appName('Practise').getOrCreate()"
   ]
  },
  {
   "cell_type": "code",
   "execution_count": 2,
   "id": "ff0399a3-da60-4d4f-9c1a-518a12e8cea1",
   "metadata": {},
   "outputs": [
    {
     "name": "stdout",
     "output_type": "stream",
     "text": [
      "+--------+---+----------+\n",
      "|    Name|age|Experience|\n",
      "+--------+---+----------+\n",
      "|   Krish| 31|         5|\n",
      "|Sudhansh| 30|        10|\n",
      "|   Sunny| 29|         2|\n",
      "+--------+---+----------+\n",
      "\n"
     ]
    }
   ],
   "source": [
    "spark.read.option('header', 'true').csv(\"test1_2.csv\").show()\n",
    "df_pyspark = spark.read.option('header', 'true').csv(\"test1_2.csv\")"
   ]
  },
  {
   "cell_type": "code",
   "execution_count": 3,
   "id": "b928c9ab-65b7-4948-a2ad-78950a5bda1a",
   "metadata": {},
   "outputs": [
    {
     "data": {
      "text/plain": [
       "pyspark.sql.dataframe.DataFrame"
      ]
     },
     "execution_count": 3,
     "metadata": {},
     "output_type": "execute_result"
    }
   ],
   "source": [
    "type(df_pyspark)"
   ]
  },
  {
   "cell_type": "code",
   "execution_count": 4,
   "id": "a32a7849-7a52-407b-b8d2-287e67d4628b",
   "metadata": {},
   "outputs": [
    {
     "data": {
      "text/plain": [
       "[Row(Name='Krish', age='31', Experience='5'),\n",
       " Row(Name='Sudhansh', age='30', Experience='10'),\n",
       " Row(Name='Sunny', age='29', Experience='2')]"
      ]
     },
     "execution_count": 4,
     "metadata": {},
     "output_type": "execute_result"
    }
   ],
   "source": [
    "df_pyspark.head(3)"
   ]
  },
  {
   "cell_type": "markdown",
   "id": "597dcc71-ff8f-493c-af7e-2db1136f7642",
   "metadata": {},
   "source": [
    "## définir le type par défaut des colonnes"
   ]
  },
  {
   "cell_type": "code",
   "execution_count": 5,
   "id": "b277dbc4-b0c7-44cc-8073-2304ea927b60",
   "metadata": {},
   "outputs": [
    {
     "name": "stdout",
     "output_type": "stream",
     "text": [
      "root\n",
      " |-- Name: string (nullable = true)\n",
      " |-- age: string (nullable = true)\n",
      " |-- Experience: string (nullable = true)\n",
      "\n",
      "root\n",
      " |-- Name: string (nullable = true)\n",
      " |-- age: integer (nullable = true)\n",
      " |-- Experience: integer (nullable = true)\n",
      "\n"
     ]
    },
    {
     "data": {
      "text/plain": [
       "[('Name', 'string'), ('age', 'int'), ('Experience', 'int')]"
      ]
     },
     "execution_count": 5,
     "metadata": {},
     "output_type": "execute_result"
    }
   ],
   "source": [
    "df_pyspark = spark.read.option('header', 'true').csv(\"test1_2.csv\")\n",
    "df_pyspark.printSchema()\n",
    "\n",
    "df_pyspark = spark.read.option('header', 'true').csv(\"test1_2.csv\", inferSchema=True)\n",
    "df_pyspark.printSchema()\n",
    "\n",
    "df_pyspark.dtypes"
   ]
  },
  {
   "cell_type": "markdown",
   "id": "e9ec9cc4-229b-4d7b-adee-9d2e44619ebc",
   "metadata": {},
   "source": [
    "## Voir plus d'informations sur le dataframe"
   ]
  },
  {
   "cell_type": "code",
   "execution_count": 6,
   "id": "6bf92ca4-4105-4b44-b0d0-1aa0716a57dd",
   "metadata": {},
   "outputs": [],
   "source": [
    "## le nombre de valeur (count), la moyenne des valeurs (mean), la valeur minimum (min), valeur maximum (max), stddev ?"
   ]
  },
  {
   "cell_type": "code",
   "execution_count": 7,
   "id": "e38b6864-cb51-4176-80b6-7770eefcb290",
   "metadata": {},
   "outputs": [
    {
     "name": "stdout",
     "output_type": "stream",
     "text": [
      "+-------+-----+----+-----------------+\n",
      "|summary| Name| age|       Experience|\n",
      "+-------+-----+----+-----------------+\n",
      "|  count|    3|   3|                3|\n",
      "|   mean| NULL|30.0|5.666666666666667|\n",
      "| stddev| NULL| 1.0|4.041451884327381|\n",
      "|    min|Krish|  29|                2|\n",
      "|    max|Sunny|  31|               10|\n",
      "+-------+-----+----+-----------------+\n",
      "\n"
     ]
    }
   ],
   "source": [
    "df_pyspark.describe().show()"
   ]
  },
  {
   "cell_type": "markdown",
   "id": "9ff199db-a2d5-472a-a0d3-95cf16d158ea",
   "metadata": {},
   "source": [
    "## selection colonnes"
   ]
  },
  {
   "cell_type": "code",
   "execution_count": 8,
   "id": "b00168a7-6e66-41de-89a3-2e148fb198d2",
   "metadata": {},
   "outputs": [
    {
     "name": "stdout",
     "output_type": "stream",
     "text": [
      "+--------+\n",
      "|    Name|\n",
      "+--------+\n",
      "|   Krish|\n",
      "|Sudhansh|\n",
      "|   Sunny|\n",
      "+--------+\n",
      "\n"
     ]
    }
   ],
   "source": [
    "df_pyspark.select('Name').show()"
   ]
  },
  {
   "cell_type": "code",
   "execution_count": 9,
   "id": "4aa88f33-37d1-41d9-be3b-a8cdba88ef8a",
   "metadata": {},
   "outputs": [
    {
     "name": "stdout",
     "output_type": "stream",
     "text": [
      "+--------+----------+\n",
      "|    Name|Experience|\n",
      "+--------+----------+\n",
      "|   Krish|         5|\n",
      "|Sudhansh|        10|\n",
      "|   Sunny|         2|\n",
      "+--------+----------+\n",
      "\n"
     ]
    }
   ],
   "source": [
    "df_pyspark.select(['Name', 'Experience']).show()"
   ]
  },
  {
   "cell_type": "markdown",
   "id": "37202234-3f16-4a5e-857b-426cbdce2589",
   "metadata": {},
   "source": [
    "## ajout colonne"
   ]
  },
  {
   "cell_type": "code",
   "execution_count": 10,
   "id": "288e028b-162e-4c36-b81c-462e5bf5f904",
   "metadata": {},
   "outputs": [
    {
     "name": "stdout",
     "output_type": "stream",
     "text": [
      "+--------+---+----------+-----------------------+\n",
      "|    Name|age|Experience|Experience After 2 year|\n",
      "+--------+---+----------+-----------------------+\n",
      "|   Krish| 31|         5|                      7|\n",
      "|Sudhansh| 30|        10|                     12|\n",
      "|   Sunny| 29|         2|                      4|\n",
      "+--------+---+----------+-----------------------+\n",
      "\n"
     ]
    }
   ],
   "source": [
    "df_pyspark = df_pyspark.withColumn(\"Experience After 2 year\", df_pyspark['Experience'] + 2)\n",
    "df_pyspark.show()"
   ]
  },
  {
   "cell_type": "markdown",
   "id": "daeb6fa6-20a8-4ca7-a0f3-fbeeeb018871",
   "metadata": {},
   "source": [
    "## suppression colonne"
   ]
  },
  {
   "cell_type": "code",
   "execution_count": 11,
   "id": "7ef0134b-908e-431c-85dd-a5238e9c2604",
   "metadata": {},
   "outputs": [
    {
     "name": "stdout",
     "output_type": "stream",
     "text": [
      "+--------+---+----------+\n",
      "|    Name|age|Experience|\n",
      "+--------+---+----------+\n",
      "|   Krish| 31|         5|\n",
      "|Sudhansh| 30|        10|\n",
      "|   Sunny| 29|         2|\n",
      "+--------+---+----------+\n",
      "\n"
     ]
    }
   ],
   "source": [
    "df_pyspark = df_pyspark.drop(\"Experience After 2 year\")\n",
    "df_pyspark.show()"
   ]
  },
  {
   "cell_type": "markdown",
   "id": "0bc42a22-d264-47dd-98c1-1a00a2b463dc",
   "metadata": {},
   "source": [
    "## rename colonne"
   ]
  },
  {
   "cell_type": "code",
   "execution_count": 12,
   "id": "ef4503c5-db9e-4d33-98bb-80ece6f44737",
   "metadata": {},
   "outputs": [
    {
     "name": "stdout",
     "output_type": "stream",
     "text": [
      "+--------+---+----------+\n",
      "|New Name|age|Experience|\n",
      "+--------+---+----------+\n",
      "|   Krish| 31|         5|\n",
      "|Sudhansh| 30|        10|\n",
      "|   Sunny| 29|         2|\n",
      "+--------+---+----------+\n",
      "\n"
     ]
    }
   ],
   "source": [
    "df_pyspark = df_pyspark.withColumnRenamed(\"Name\", \"New Name\")\n",
    "df_pyspark.show()"
   ]
  },
  {
   "cell_type": "code",
   "execution_count": null,
   "id": "dc201ad1-c662-4559-a1ef-d22ecdb4086a",
   "metadata": {},
   "outputs": [],
   "source": []
  }
 ],
 "metadata": {
  "kernelspec": {
   "display_name": "Python 3.11 (python311)",
   "language": "python",
   "name": "python311"
  },
  "language_info": {
   "codemirror_mode": {
    "name": "ipython",
    "version": 3
   },
   "file_extension": ".py",
   "mimetype": "text/x-python",
   "name": "python",
   "nbconvert_exporter": "python",
   "pygments_lexer": "ipython3",
   "version": "3.11.10"
  }
 },
 "nbformat": 4,
 "nbformat_minor": 5
}
