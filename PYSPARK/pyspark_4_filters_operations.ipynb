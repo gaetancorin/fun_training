{
 "cells": [
  {
   "cell_type": "code",
   "execution_count": 1,
   "id": "316203a5-1f77-4358-a510-c54d254259c8",
   "metadata": {},
   "outputs": [],
   "source": [
    "from pyspark.sql import SparkSession\n",
    "spark = SparkSession.builder.appName('Practise').getOrCreate()"
   ]
  },
  {
   "cell_type": "code",
   "execution_count": 2,
   "id": "f7a544f0-ffd5-490c-b090-8be78bbce9c3",
   "metadata": {},
   "outputs": [
    {
     "name": "stdout",
     "output_type": "stream",
     "text": [
      "+--------+----+----------+------+\n",
      "|    Name| age|Experience|Salary|\n",
      "+--------+----+----------+------+\n",
      "|   Krish|31.0|         5| 30000|\n",
      "|Sudhansh|30.0|        10| 10000|\n",
      "|   Sunny|29.0|         2| 15000|\n",
      "|  Pierre|35.0|        10| 40000|\n",
      "|  Benoit|55.0|        25| 75000|\n",
      "|   Lucas|45.0|        20| 64000|\n",
      "| Patrick|22.0|         2| 35000|\n",
      "+--------+----+----------+------+\n",
      "\n"
     ]
    }
   ],
   "source": [
    "spark.read.csv(\"test4.csv\", header=True, inferSchema=True).show()\n",
    "df_pyspark = spark.read.csv(\"test4.csv\", header=True, inferSchema=True)"
   ]
  },
  {
   "cell_type": "markdown",
   "id": "8bb3b4b8-fc96-429a-9638-4c9b86b5b115",
   "metadata": {},
   "source": [
    "## operateurs logiques < > <= >="
   ]
  },
  {
   "cell_type": "code",
   "execution_count": 3,
   "id": "16516ba0-bd22-4751-a56d-c71bfae798af",
   "metadata": {},
   "outputs": [
    {
     "name": "stdout",
     "output_type": "stream",
     "text": [
      "+--------+----+----------+------+\n",
      "|    Name| age|Experience|Salary|\n",
      "+--------+----+----------+------+\n",
      "|Sudhansh|30.0|        10| 10000|\n",
      "|   Sunny|29.0|         2| 15000|\n",
      "+--------+----+----------+------+\n",
      "\n",
      "+-----+----+----------+------+\n",
      "| Name| age|Experience|Salary|\n",
      "+-----+----+----------+------+\n",
      "|Sunny|29.0|         2| 15000|\n",
      "+-----+----+----------+------+\n",
      "\n"
     ]
    }
   ],
   "source": [
    "df_pyspark.filter(df_pyspark['Salary']<=20000).show()\n",
    "# autre manière de l'écrire\n",
    "# df_pyspark.filter(\"Salary<=20000\").show()\n",
    "\n",
    "df_pyspark.filter((df_pyspark['Salary']<=20000) & (df_pyspark['Salary']>=12000)).show()"
   ]
  },
  {
   "cell_type": "code",
   "execution_count": 4,
   "id": "e1f1ae1b-dabc-41c8-a710-8c23e851391d",
   "metadata": {},
   "outputs": [
    {
     "name": "stdout",
     "output_type": "stream",
     "text": [
      "+--------+----+\n",
      "|    Name| age|\n",
      "+--------+----+\n",
      "|Sudhansh|30.0|\n",
      "|   Sunny|29.0|\n",
      "+--------+----+\n",
      "\n"
     ]
    }
   ],
   "source": [
    "df_pyspark.filter(df_pyspark['Salary']<=20000).select(['Name', 'age']).show()"
   ]
  },
  {
   "cell_type": "code",
   "execution_count": 5,
   "id": "3105f5e0-5ac0-427a-8323-fc726714d1aa",
   "metadata": {},
   "outputs": [
    {
     "name": "stdout",
     "output_type": "stream",
     "text": [
      "+-------+----+----------+------+\n",
      "|   Name| age|Experience|Salary|\n",
      "+-------+----+----------+------+\n",
      "|  Krish|31.0|         5| 30000|\n",
      "| Pierre|35.0|        10| 40000|\n",
      "| Benoit|55.0|        25| 75000|\n",
      "|  Lucas|45.0|        20| 64000|\n",
      "|Patrick|22.0|         2| 35000|\n",
      "+-------+----+----------+------+\n",
      "\n"
     ]
    }
   ],
   "source": [
    "df_pyspark.filter(~(df_pyspark['Salary']<=20000)).show()"
   ]
  },
  {
   "cell_type": "code",
   "execution_count": null,
   "id": "2514f933-80af-44a4-942f-c7dd632b0525",
   "metadata": {},
   "outputs": [],
   "source": []
  }
 ],
 "metadata": {
  "kernelspec": {
   "display_name": "Python 3.11 (python311)",
   "language": "python",
   "name": "python311"
  },
  "language_info": {
   "codemirror_mode": {
    "name": "ipython",
    "version": 3
   },
   "file_extension": ".py",
   "mimetype": "text/x-python",
   "name": "python",
   "nbconvert_exporter": "python",
   "pygments_lexer": "ipython3",
   "version": "3.11.10"
  }
 },
 "nbformat": 4,
 "nbformat_minor": 5
}
